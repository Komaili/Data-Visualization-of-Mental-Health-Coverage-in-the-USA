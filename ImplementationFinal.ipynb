{
 "cells": [
  {
   "cell_type": "markdown",
   "id": "nearby-constraint",
   "metadata": {},
   "source": [
    "# Implementation\n",
    "This notebook takes in cleaned data from data_cleaning.ipynb and creates all visualizations in dashboard."
   ]
  },
  {
   "cell_type": "code",
   "execution_count": 1,
   "id": "southwest-replica",
   "metadata": {},
   "outputs": [],
   "source": [
    "import pandas as pd\n",
    "import numpy as np\n",
    "import altair as alt\n",
    "import geopandas as gpd\n",
    "from altair import datum"
   ]
  },
  {
   "cell_type": "code",
   "execution_count": 2,
   "id": "empty-grammar",
   "metadata": {},
   "outputs": [],
   "source": [
    "# read in cleaned data\n",
    "df = pd.read_csv('final_data')"
   ]
  },
  {
   "cell_type": "code",
   "execution_count": 3,
   "id": "overall-intelligence",
   "metadata": {},
   "outputs": [],
   "source": [
    "# create treatment column that determines whether an individual received all treatment they needed or need was unmet\n",
    "df.loc[df['hltsrv'].isin(['Prescriptions', 'Outpatient and Prescriptions', 'Outpatient', 'Inpatient, Outpatient and Prescriptions', 'Inpatient','Inpatient and Prescriptions','Inpatient and Outpatient']), 'treatment'] = 'Treatment Need Met'\n",
    "df.loc[df['unmet_need'] == 'Yes', 'treatment'] = 'Unmet Need'\n",
    "\n",
    "df2 = df.dropna(subset = ['treatment'])"
   ]
  },
  {
   "cell_type": "code",
   "execution_count": 4,
   "id": "hollow-sound",
   "metadata": {},
   "outputs": [
    {
     "data": {
      "text/plain": [
       "DataTransformerRegistry.enable('default')"
      ]
     },
     "execution_count": 4,
     "metadata": {},
     "output_type": "execute_result"
    }
   ],
   "source": [
    "# disable max rows error\n",
    "alt.data_transformers.disable_max_rows()"
   ]
  },
  {
   "cell_type": "markdown",
   "id": "phantom-credit",
   "metadata": {},
   "source": [
    "### Remove records with 'skipped' or unneeded data"
   ]
  },
  {
   "cell_type": "code",
   "execution_count": 5,
   "id": "partial-cedar",
   "metadata": {},
   "outputs": [],
   "source": [
    "df3 = df.dropna(subset = ['amt_paid'])\n",
    "df3 = df3[df3['amt_paid'].isin(['Less than $100',\n",
    "                                '$100 to $200',\n",
    "                                '$201 to $500',\n",
    "                                '$501 to $900',\n",
    "                                '$901 to $1,500',\n",
    "                                '1,501 to $2,000',\n",
    "                                '$2,001 to $5,000',\n",
    "                                'More than $5,000'])]"
   ]
  },
  {
   "cell_type": "code",
   "execution_count": 1,
   "id": "pleased-prisoner",
   "metadata": {},
   "outputs": [],
   "source": [
    "# create list for sorting categorical data in logical order\n",
    "sort1 = ['Less than $10,000 (including loss)',\n",
    "                         '$10,000 to $19,999',\n",
    "                         '$20,000 to $29,999',\n",
    "                         '$30,000 to $39,999',\n",
    "                         '$40,000 to $49,999',\n",
    "                         '$50,000 to $74,999',\n",
    "                         '$75,000 or more']\n",
    "sort2 = ['More than $5,000',\n",
    "        '$2,001 to $5,000',\n",
    "        '1,501 to $2,000',\n",
    "        '$901 to $1,500',\n",
    "        '$501 to $900',\n",
    "        '$201 to $500',\n",
    "        '$100 to $200',\n",
    "        'Less than $100']"
   ]
  },
  {
   "cell_type": "code",
   "execution_count": 7,
   "id": "circular-reference",
   "metadata": {},
   "outputs": [
    {
     "data": {
      "text/plain": [
       "array(['Group Offered Health Insurance', 'None',\n",
       "       'Private Health Insurance', 'Medicaid', 'Medicare',\n",
       "       'Medicaid and Group Offered Health Insurance', 'Military',\n",
       "       'Medicare and Group Offered Health Insurance',\n",
       "       'Medicare and Medicaid',\n",
       "       'Military and Group Offered Health Insurance',\n",
       "       'Medicaid and Private Health Insurance', 'Medicare and Military',\n",
       "       'Medicare, Medicaid, and Group Offered Health Insurance',\n",
       "       'Medicare and Private Health Insurance',\n",
       "       'Medicare, Medicaid, Military, and Group Offered Health Insurance',\n",
       "       'Military and Private Health Insurance',\n",
       "       'Medicaid, Military, and Group Offered Health Insurance',\n",
       "       'Medicaid and Military',\n",
       "       'Medicare, Medicaid, and Private Health Insurance',\n",
       "       'Medicare, Military, and Private Health Insurance'], dtype=object)"
      ]
     },
     "execution_count": 7,
     "metadata": {},
     "output_type": "execute_result"
    }
   ],
   "source": [
    "insurers = df3['hltin'].unique()\n",
    "insurers"
   ]
  },
  {
   "cell_type": "markdown",
   "id": "recognized-bloom",
   "metadata": {},
   "source": [
    "### Reasons for no care - additional data preparation"
   ]
  },
  {
   "cell_type": "code",
   "execution_count": 13,
   "id": "usual-square",
   "metadata": {},
   "outputs": [],
   "source": [
    "no_care = pd.DataFrame(df['no_care_reasons'].value_counts()[3:15]).reset_index()"
   ]
  },
  {
   "cell_type": "code",
   "execution_count": 14,
   "id": "textile-iraqi",
   "metadata": {},
   "outputs": [],
   "source": [
    "no_care_list = no_care['index'].to_list()"
   ]
  },
  {
   "cell_type": "code",
   "execution_count": 15,
   "id": "perfect-calibration",
   "metadata": {},
   "outputs": [],
   "source": [
    "df4 = df2[df2['no_care_reasons'].isin(no_care_list)]"
   ]
  },
  {
   "cell_type": "markdown",
   "id": "wicked-singapore",
   "metadata": {},
   "source": [
    "## Dashboard"
   ]
  },
  {
   "cell_type": "code",
   "execution_count": 37,
   "id": "vietnamese-storage",
   "metadata": {
    "scrolled": false
   },
   "outputs": [],
   "source": [
    "# Drop down menu for type of insurance\n",
    "dropdown = alt.binding_select(options = insurers, name = 'Insurance Type')\n",
    "\n",
    "select = alt.selection_single(fields = ['hltin'], bind = dropdown,  name = 'Insurance Type' )\n",
    "\n",
    "source = df3\n",
    "\n",
    "# interaction for clicking on each data point for each year\n",
    "click = alt.selection_multi(encodings = ['x'] )\n",
    "# interaction for clicking on data point\n",
    "multi = alt.selection_multi()\n",
    "\n",
    "# bar graph for utilization by year\n",
    "time_bar = alt.Chart(source).mark_bar().encode(\n",
    "    x = alt.X('year:O', axis = alt.Axis(grid = True)),\n",
    "    y = alt.Y('count(hltsrv):Q', title = \"Count of Service Utilization\"),\n",
    "    tooltip = ['year','count(hltsrv)'],\n",
    "    color = alt.condition(multi, 'count(year)', alt.value('lightgray'))\n",
    ").add_selection(click).add_selection(multi).properties(title = 'Mental Health Utilization over Time', height = 200, width = 500)\n",
    "\n",
    "# Treatment Needs stacked normalized bar chart\n",
    "source = df2\n",
    "bar = alt.Chart(source).transform_joinaggregate(\n",
    "    total = 'count(*)'\n",
    ").transform_calculate(\n",
    "    percent = '1/datum.total'\n",
    ").mark_bar(size = 10).encode(\n",
    "    x = alt.X('sum(percent):Q', title = 'Percent', stack = 'normalize'), \n",
    "    y= alt.Y('sex:N', title = ''),\n",
    "    row = alt.Row('race:N', title = '', header = alt.Header(labelAlign = 'left', labelAngle = 0, labelFontWeight = 'bold')),\n",
    "    color = alt.Color('treatment:N', scale = alt.Scale(\n",
    "            domain = ('Treatment Need Met', 'Unmet Need'), \n",
    "            range=[\"#043694\", \"#a1d6ed\"]), legend = alt.Legend(title = 'Treatment Needs'))\n",
    ").properties(width = 300, height = 30,title = 'Treatment Needs').transform_filter(click)\n",
    "\n",
    "# Bubble graph for amount paid by income, race, and gender\n",
    "source = df3\n",
    "circle = alt.Chart(source).mark_circle().encode(\n",
    "    x = alt.X('fam_income', title = \"Family Income\", sort = sort1, axis = alt.Axis(labelAngle = -45, grid = True)), \n",
    "    y= alt.Y('amt_paid', title = 'Amount Paid', sort = sort2 , axis = alt.Axis(grid = True)),\n",
    "    size = alt.Size('count()'),\n",
    "    color = alt.Color('count()'),\n",
    "    tooltip = 'count()'\n",
    ").properties(height = 300,width = 300, title = 'Amount Paid Out of Pocket for Mental Health Care by Income Level'\n",
    ").add_selection(select).transform_filter(select).transform_filter(click)\n",
    "\n",
    "# Bar graph for utilization by income level\n",
    "bar2 = alt.Chart(source).mark_bar().encode(\n",
    "    x = alt.X('fam_income', title = 'Family Income', sort = sort1, axis = alt.Axis(labelAngle = -45)),\n",
    "    y = alt.Y('count(hltsrv):Q'),\n",
    "    color = alt.Color('hltsrv:N', legend = alt.Legend(title = 'Type of Service'),scale = alt.Scale(range = ['#82C0CC', '#EDE7E3', '#FFA62B', '#DCABDF', '#a1d6ed','#043694'])),\n",
    "    tooltip = ['count(hltsrv):Q']\n",
    ").properties(title = 'Mental Health Service Utilization by Income Level', width = 300\n",
    ").add_selection(select).transform_filter(select).transform_filter(click)\n",
    "\n",
    "# Interaction for choropleth map dropdown menu\n",
    "types = pd.unique(df_all.Type)\n",
    "input_dropdown = alt.binding_select(options=types, name = 'Type')\n",
    "type_selector = alt.selection_single(fields = ['Type'], bind=input_dropdown, init = {'Type':'Any Mental Illnesses'})\n",
    "\n",
    "# Choropleth\n",
    "map = alt.Chart(df_all).mark_geoshape(stroke='white')\\\n",
    "    .encode(\n",
    "    color = alt.Color('Cases:Q', legend = alt.Legend(title = 'Cases')),\n",
    "    tooltip = ['year:O', 'State:N', 'Cases:Q'])\\\n",
    "    .properties(projection={'type': 'albersUsa'},width=500,height=350, title = 'Geographical Distribution of US Mental Health Care Utilization')\\\n",
    "    .add_selection(type_selector).transform_filter(type_selector).transform_filter(click)\n",
    "\n",
    "# No Care Reasons bar\n",
    "source = df4\n",
    "nc = alt.Chart(source).mark_bar(color = '#a8a9ad').encode(\n",
    "    x = alt.X('count():Q'),\n",
    "    y = alt.Y('no_care_reasons:N', sort = '-x', title = 'Reasons for No Care', axis = alt.Axis(labels = False)),\n",
    "    tooltip = ['no_care_reasons']\n",
    ").transform_filter(click).properties(title = 'Reasons for No Care', width = 200, height = 350)\n",
    "\n",
    "nc = nc.add_selection(alt.selection_single())\n",
    "\n",
    "dashboard = (time_bar & (bar | nc) & map | circle & bar2).properties(title = 'Mental Health Services in the US').configure_title(anchor = 'middle')\n"
   ]
  },
  {
   "cell_type": "code",
   "execution_count": 38,
   "id": "altered-vanilla",
   "metadata": {},
   "outputs": [],
   "source": [
    "dashboard.save('final_dashboard.html')"
   ]
  }
 ],
 "metadata": {
  "kernelspec": {
   "display_name": "Python 3",
   "language": "python",
   "name": "python3"
  },
  "language_info": {
   "codemirror_mode": {
    "name": "ipython",
    "version": 3
   },
   "file_extension": ".py",
   "mimetype": "text/x-python",
   "name": "python",
   "nbconvert_exporter": "python",
   "pygments_lexer": "ipython3",
   "version": "3.8.5"
  }
 },
 "nbformat": 4,
 "nbformat_minor": 5
}
