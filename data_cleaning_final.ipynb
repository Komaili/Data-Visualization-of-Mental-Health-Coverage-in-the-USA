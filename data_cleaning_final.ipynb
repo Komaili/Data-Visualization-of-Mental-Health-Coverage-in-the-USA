{
 "cells": [
  {
   "cell_type": "markdown",
   "id": "exotic-mount",
   "metadata": {
    "id": "exotic-mount"
   },
   "source": [
    "# Data Cleaning and Transforming\n",
    "Data source: https://www.datafiles.samhsa.gov/dataset/nsduh-2002-2019-ds0001-nsduh-2002-2019-ds0001 "
   ]
  },
  {
   "cell_type": "markdown",
   "id": "recorded-briefs",
   "metadata": {},
   "source": [
    "### Column Transformation: amt_paid, who_paid_outpat, who_paid_inpat\n",
    "    - Input: newdata.csv \n",
    "    - Output: newdata_v2.csv"
   ]
  },
  {
   "cell_type": "code",
   "execution_count": 1,
   "id": "allied-rover",
   "metadata": {
    "executionInfo": {
     "elapsed": 218,
     "status": "ok",
     "timestamp": 1635897782451,
     "user": {
      "displayName": "Komail Wahab",
      "photoUrl": "https://lh3.googleusercontent.com/a-/AOh14GgbYv0dXO9l1j7gwHDur377NhvAMqsXbvDYfSycOA=s64",
      "userId": "16920331718779499982"
     },
     "user_tz": 300
    },
    "id": "catholic-bandwidth"
   },
   "outputs": [],
   "source": [
    "import pandas as pd\n",
    "import numpy as np"
   ]
  },
  {
   "cell_type": "code",
   "execution_count": 2,
   "id": "round-injury",
   "metadata": {
    "executionInfo": {
     "elapsed": 491,
     "status": "ok",
     "timestamp": 1635897783166,
     "user": {
      "displayName": "Komail Wahab",
      "photoUrl": "https://lh3.googleusercontent.com/a-/AOh14GgbYv0dXO9l1j7gwHDur377NhvAMqsXbvDYfSycOA=s64",
      "userId": "16920331718779499982"
     },
     "user_tz": 300
    },
    "id": "round-injury"
   },
   "outputs": [],
   "source": [
    "df = pd.read_csv('newdata')\n",
    "# Strip whitespaces\n",
    "df = df.apply(lambda x:x.str.strip() if x.dtype == \"object\" else x, axis = 0)\n",
    "\n",
    "# Drop underage records\n",
    "l = []\n",
    "for item in df.age.unique():\n",
    "    l.append(item)\n",
    "underaged_index = [8,11,12,14,15,16]\n",
    "underage = []\n",
    "for i in underaged_index:\n",
    "    underage.append(l[i])\n",
    "df = df[~df['age'].isin(underage)]"
   ]
  },
  {
   "cell_type": "code",
   "execution_count": 3,
   "id": "special-transcript",
   "metadata": {
    "executionInfo": {
     "elapsed": 2,
     "status": "ok",
     "timestamp": 1635897783167,
     "user": {
      "displayName": "Komail Wahab",
      "photoUrl": "https://lh3.googleusercontent.com/a-/AOh14GgbYv0dXO9l1j7gwHDur377NhvAMqsXbvDYfSycOA=s64",
      "userId": "16920331718779499982"
     },
     "user_tz": 300
    },
    "id": "special-transcript"
   },
   "outputs": [
    {
     "data": {
      "text/plain": [
       "skip                597213\n",
       "refused                549\n",
       "blank                  514\n",
       "Less than $100         219\n",
       "More than $5,000       187\n",
       "do not know            116\n",
       "$100 to $200           116\n",
       "$2,001 to $5,000       109\n",
       "$901 to $1,500          99\n",
       "$201 to $500            96\n",
       "$501 to $900            89\n",
       "1,501 to $2,000         76\n",
       "bad data                24\n",
       "Name: amt_paid_inpat, dtype: int64"
      ]
     },
     "execution_count": 3,
     "metadata": {},
     "output_type": "execute_result"
    }
   ],
   "source": [
    "# transform amt_paid_inpat column\n",
    "df['amt_paid_inpat'] = df['amt_paid_inpat'].map({1: 'Less than $100',\n",
    "                                                2: '$100 to $200',\n",
    "                                                3: '$201 to $500',\n",
    "                                                4: '$501 to $900',\n",
    "                                                5: '$901 to $1,500',\n",
    "                                                6: '1,501 to $2,000',\n",
    "                                                7: '$2,001 to $5,000',\n",
    "                                                8: 'More than $5,000',\n",
    "                                                85: 'bad data',\n",
    "                                                94: 'do not know',\n",
    "                                                97: 'refused',\n",
    "                                                98: 'blank',\n",
    "                                                99: 'skip'})\n",
    "# check to make sure the transformation worked\n",
    "df['amt_paid_inpat'].value_counts()"
   ]
  },
  {
   "cell_type": "code",
   "execution_count": 4,
   "id": "integral-director",
   "metadata": {
    "executionInfo": {
     "elapsed": 3,
     "status": "ok",
     "timestamp": 1635897783394,
     "user": {
      "displayName": "Komail Wahab",
      "photoUrl": "https://lh3.googleusercontent.com/a-/AOh14GgbYv0dXO9l1j7gwHDur377NhvAMqsXbvDYfSycOA=s64",
      "userId": "16920331718779499982"
     },
     "user_tz": 300
    },
    "id": "integral-director"
   },
   "outputs": [
    {
     "data": {
      "text/plain": [
       "skip                587254\n",
       "Less than $100        3071\n",
       "$201 to $500          1976\n",
       "$100 to $200          1963\n",
       "$501 to $900          1095\n",
       "blank                  985\n",
       "refused                764\n",
       "$901 to $1,500         659\n",
       "do not know            600\n",
       "$2,001 to $5,000       421\n",
       "1,501 to $2,000        378\n",
       "More than $5,000       218\n",
       "bad data                23\n",
       "Name: amt_paid_outpat, dtype: int64"
      ]
     },
     "execution_count": 4,
     "metadata": {},
     "output_type": "execute_result"
    }
   ],
   "source": [
    "# transform amt_paid_outpat column\n",
    "df['amt_paid_outpat'] = df['amt_paid_outpat'].map({1: 'Less than $100',\n",
    "                                                2: '$100 to $200',\n",
    "                                                3: '$201 to $500',\n",
    "                                                4: '$501 to $900',\n",
    "                                                5: '$901 to $1,500',\n",
    "                                                6: '1,501 to $2,000',\n",
    "                                                7: '$2,001 to $5,000',\n",
    "                                                8: 'More than $5,000',\n",
    "                                                85: 'bad data',\n",
    "                                                94: 'do not know',\n",
    "                                                97: 'refused',\n",
    "                                                98: 'blank',\n",
    "                                                99: 'skip'})\n",
    "\n",
    "# check to make sure the transformation worked\n",
    "df['amt_paid_outpat'].value_counts()"
   ]
  },
  {
   "cell_type": "code",
   "execution_count": 5,
   "id": "floppy-definition",
   "metadata": {
    "executionInfo": {
     "elapsed": 342,
     "status": "ok",
     "timestamp": 1635897783734,
     "user": {
      "displayName": "Komail Wahab",
      "photoUrl": "https://lh3.googleusercontent.com/a-/AOh14GgbYv0dXO9l1j7gwHDur377NhvAMqsXbvDYfSycOA=s64",
      "userId": "16920331718779499982"
     },
     "user_tz": 300
    },
    "id": "floppy-definition"
   },
   "outputs": [
    {
     "data": {
      "text/plain": [
       "Care was free    313\n",
       "Name: care_free, dtype: int64"
      ]
     },
     "execution_count": 5,
     "metadata": {},
     "output_type": "execute_result"
    }
   ],
   "source": [
    "# transform fam_paid_inpat\n",
    "df['fam_paid_inpat'] = df['fam_paid_inpat'].map({1: 'Self or live-in family member'})\n",
    "# transform fam_paid_inpat_away\n",
    "df['fam_paid_inpat_away'] = df['fam_paid_inpat_away'].map({1: 'Family member not living with you'})\n",
    "# transform private_ins_paid_inpat\n",
    "df['private_ins_paid_inpat'] = df['private_ins_paid_inpat'].map({1: 'Private insurance'})\n",
    "# transform medicare_paid_inpat\n",
    "df['medicare_paid_inpat'] = df['medicare_paid_inpat'].map({1: 'Medicare'})\n",
    "# transform medicaid_paid_inpat\n",
    "df['medicaid_paid_inpat'] = df['medicaid_paid_inpat'].map({1: 'Medicaid'})\n",
    "# transform employer_paid_inpat\n",
    "df['employer_paid_inpat'] = df['employer_paid_inpat'].map({1: 'Employer'})\n",
    "# transform military_paid_inpat\n",
    "df['military_paid_inpat'] = df['military_paid_inpat'].map({1: 'Military'})\n",
    "# transform other_pub_inpat\n",
    "df['other_pub_inpat'] = df['other_pub_inpat'].map({1: 'Other public source'})\n",
    "# transform other_private_inpat\n",
    "df['other_private_inpat'] = df['other_private_inpat'].map({1: 'Other private source'})\n",
    "# transform care_free\n",
    "df['care_free'] = df['care_free'].map({1: 'Care was free'})\n",
    "\n",
    "# check to make sure the transformation worked\n",
    "df['care_free'].value_counts()"
   ]
  },
  {
   "cell_type": "code",
   "execution_count": 6,
   "id": "aquatic-rolling",
   "metadata": {
    "executionInfo": {
     "elapsed": 4,
     "status": "ok",
     "timestamp": 1635897783735,
     "user": {
      "displayName": "Komail Wahab",
      "photoUrl": "https://lh3.googleusercontent.com/a-/AOh14GgbYv0dXO9l1j7gwHDur377NhvAMqsXbvDYfSycOA=s64",
      "userId": "16920331718779499982"
     },
     "user_tz": 300
    },
    "id": "aquatic-rolling"
   },
   "outputs": [],
   "source": [
    "# create new column called amt_paid to combine amt_paid_inpat and amt_paid_outpat\n",
    "df.loc[df['rcvd_inpat'] == 1, 'amt_paid'] = df['amt_paid_inpat']\n",
    "df.loc[df['rcvd_outpat'] == 1, 'amt_paid'] = df['amt_paid_outpat']"
   ]
  },
  {
   "cell_type": "code",
   "execution_count": 7,
   "id": "empirical-minute",
   "metadata": {
    "executionInfo": {
     "elapsed": 309,
     "status": "ok",
     "timestamp": 1635897784287,
     "user": {
      "displayName": "Komail Wahab",
      "photoUrl": "https://lh3.googleusercontent.com/a-/AOh14GgbYv0dXO9l1j7gwHDur377NhvAMqsXbvDYfSycOA=s64",
      "userId": "16920331718779499982"
     },
     "user_tz": 300
    },
    "id": "empirical-minute"
   },
   "outputs": [],
   "source": [
    "# merge columns together\n",
    "df2 = pd.concat([df['ID'], df['fam_paid_inpat']\n",
    "                .combine_first(df['fam_paid_inpat_away'])\n",
    "               .combine_first(df['private_ins_paid_inpat'])\n",
    "               .combine_first(df['medicare_paid_inpat'])\n",
    "               .combine_first(df['medicaid_paid_inpat'])\n",
    "               .combine_first(df['employer_paid_inpat'])\n",
    "               .combine_first(df['military_paid_inpat'])\n",
    "               .combine_first(df['other_pub_inpat'])\n",
    "               .combine_first(df['other_private_inpat'])\n",
    "               .combine_first(df['care_free'])], axis = 1)\n",
    "\n",
    "df2 = df2.rename(columns = {'fam_paid_inpat':'who_paid_inpat'})\n",
    "df2 = df2.rename(columns = {'ID':'ID2'})"
   ]
  },
  {
   "cell_type": "code",
   "execution_count": 8,
   "id": "elder-phoenix",
   "metadata": {},
   "outputs": [
    {
     "data": {
      "text/plain": [
       "Self or live-in family member        987\n",
       "Medicaid                             696\n",
       "Medicare                             589\n",
       "Private insurance                    517\n",
       "Care was free                        297\n",
       "Family member not living with you    158\n",
       "Other public source                  119\n",
       "Military                             110\n",
       "Employer                              96\n",
       "Other private source                  44\n",
       "Name: who_paid_inpat, dtype: int64"
      ]
     },
     "execution_count": 8,
     "metadata": {},
     "output_type": "execute_result"
    }
   ],
   "source": [
    "df2['who_paid_inpat'].value_counts()"
   ]
  },
  {
   "cell_type": "code",
   "execution_count": 9,
   "id": "promising-promise",
   "metadata": {
    "executionInfo": {
     "elapsed": 236,
     "status": "ok",
     "timestamp": 1635897784520,
     "user": {
      "displayName": "Komail Wahab",
      "photoUrl": "https://lh3.googleusercontent.com/a-/AOh14GgbYv0dXO9l1j7gwHDur377NhvAMqsXbvDYfSycOA=s64",
      "userId": "16920331718779499982"
     },
     "user_tz": 300
    },
    "id": "promising-promise"
   },
   "outputs": [],
   "source": [
    "# combine new column with original df; store to a new csv file\n",
    "df = pd.concat([df, df2], join = 'outer', axis = 1)\n",
    "df = df.drop('ID2', axis = 1)\n",
    "final_cols = ['ID',\n",
    "'year',\n",
    "'age',\n",
    "'sex',\n",
    "'race',\n",
    "'fam_income',\n",
    "'medicare',\n",
    "'caidchip',\n",
    "'champus',\n",
    "'prvhltin',\n",
    "'grphltin',\n",
    "'rcvd_inpat',\n",
    "'rcvd_outpat',\n",
    "'rcvd_rx',\n",
    "'MH_covered',\n",
    "'unmet_need',\n",
    "'no_care_reasons',\n",
    "'amt_paid_inpat',\n",
    "'who_paid_inpat',\n",
    "'who_paid_outpat',\n",
    "'amt_paid']\n",
    "df = df[final_cols]\n",
    "df.to_csv('newdata_v2')"
   ]
  },
  {
   "cell_type": "markdown",
   "id": "revolutionary-butterfly",
   "metadata": {},
   "source": [
    "### Column Transformation: fam_income, MH_covered, unmet_need, no_care_reasons\n",
    "    - Input: newdata_v2.csv\n",
    "    - Output: newdata_v3.csv"
   ]
  },
  {
   "cell_type": "code",
   "execution_count": 10,
   "id": "wpk3Pyx6JV7N",
   "metadata": {
    "executionInfo": {
     "elapsed": 205,
     "status": "ok",
     "timestamp": 1635900163467,
     "user": {
      "displayName": "Komail Wahab",
      "photoUrl": "https://lh3.googleusercontent.com/a-/AOh14GgbYv0dXO9l1j7gwHDur377NhvAMqsXbvDYfSycOA=s64",
      "userId": "16920331718779499982"
     },
     "user_tz": 300
    },
    "id": "wpk3Pyx6JV7N"
   },
   "outputs": [
    {
     "data": {
      "text/plain": [
       "$75,000 or more                       156931\n",
       "$50,000 to $74,999                     98015\n",
       "$10,000 to $19,999                     78353\n",
       "$20,000 to $29,999                     72838\n",
       "$30,000 to $39,999                     67357\n",
       "$40,000 to $49,999                     64948\n",
       "Less than $10,000 (including loss)     60965\n",
       "Name: fam_income, dtype: int64"
      ]
     },
     "execution_count": 10,
     "metadata": {},
     "output_type": "execute_result"
    }
   ],
   "source": [
    "#Transform frome code from 1-7 to actual incomes of families.\n",
    "df['fam_income'] = df['fam_income'].map({1: 'Less than $10,000 (including loss)',\n",
    "                                                2: '$10,000 to $19,999',\n",
    "                                                3: '$20,000 to $29,999',\n",
    "                                                4: '$30,000 to $39,999',\n",
    "                                                5: '$40,000 to $49,999',\n",
    "                                                6: '$50,000 to $74,999',\n",
    "                                                7: '$75,000 or more'})\n",
    "df['fam_income'].value_counts()"
   ]
  },
  {
   "cell_type": "code",
   "execution_count": 11,
   "id": "DyZXSIMeQ-uA",
   "metadata": {
    "executionInfo": {
     "elapsed": 228,
     "status": "ok",
     "timestamp": 1635900636690,
     "user": {
      "displayName": "Komail Wahab",
      "photoUrl": "https://lh3.googleusercontent.com/a-/AOh14GgbYv0dXO9l1j7gwHDur377NhvAMqsXbvDYfSycOA=s64",
      "userId": "16920331718779499982"
     },
     "user_tz": 300
    },
    "id": "DyZXSIMeQ-uA"
   },
   "outputs": [
    {
     "data": {
      "text/plain": [
       "Yes                               237254\n",
       "LEGITIMATE SKIP (PRVHLTIN = 2)    233493\n",
       "Do not Know                        93811\n",
       "No                                 30283\n",
       "Blank (No Answer)                   4076\n",
       "Refused                              477\n",
       "Name: MH_covered, dtype: int64"
      ]
     },
     "execution_count": 11,
     "metadata": {},
     "output_type": "execute_result"
    }
   ],
   "source": [
    "#Transform from code to an answer a user could understand.\n",
    "df['MH_covered'] = df['MH_covered'].map({1: 'Yes',\n",
    "                                                2: 'No',\n",
    "                                                94: 'Do not Know',\n",
    "                                                97: 'Refused',\n",
    "                                                98: 'Blank (No Answer)',\n",
    "                                                99: 'LEGITIMATE SKIP (PRVHLTIN = 2)'})\n",
    "df['MH_covered'].value_counts()"
   ]
  },
  {
   "cell_type": "code",
   "execution_count": 12,
   "id": "vaThEj7VSFf3",
   "metadata": {
    "executionInfo": {
     "elapsed": 223,
     "status": "ok",
     "timestamp": 1635901723936,
     "user": {
      "displayName": "Komail Wahab",
      "photoUrl": "https://lh3.googleusercontent.com/a-/AOh14GgbYv0dXO9l1j7gwHDur377NhvAMqsXbvDYfSycOA=s64",
      "userId": "16920331718779499982"
     },
     "user_tz": 300
    },
    "id": "vaThEj7VSFf3"
   },
   "outputs": [
    {
     "data": {
      "text/plain": [
       "No                   323127\n",
       "LEGITIMATE SKIP      247125\n",
       "Yes                   27796\n",
       "Refused                 651\n",
       "Do not Know             587\n",
       "Blank (No Answer)        69\n",
       "Bad Data                 43\n",
       "Name: unmet_need, dtype: int64"
      ]
     },
     "execution_count": 12,
     "metadata": {},
     "output_type": "execute_result"
    }
   ],
   "source": [
    "#Transform code to an actual answer a user could understand. \n",
    "df['unmet_need'] = df['unmet_need'].map({1: 'Yes',\n",
    "                                                2: 'No',\n",
    "                                                85: 'Bad Data',\n",
    "                                                94: 'Do not Know',\n",
    "                                                97: 'Refused',\n",
    "                                                98: 'Blank (No Answer)',\n",
    "                                                99: 'LEGITIMATE SKIP'})\n",
    "df['unmet_need'].value_counts()"
   ]
  },
  {
   "cell_type": "code",
   "execution_count": 13,
   "id": "ajIGgzNoTCGa",
   "metadata": {
    "executionInfo": {
     "elapsed": 216,
     "status": "ok",
     "timestamp": 1635901684143,
     "user": {
      "displayName": "Komail Wahab",
      "photoUrl": "https://lh3.googleusercontent.com/a-/AOh14GgbYv0dXO9l1j7gwHDur377NhvAMqsXbvDYfSycOA=s64",
      "userId": "16920331718779499982"
     },
     "user_tz": 300
    },
    "id": "ajIGgzNoTCGa"
   },
   "outputs": [
    {
     "data": {
      "text/plain": [
       "LEGITIMATE SKIP                                                 593340\n",
       "Refused                                                            925\n",
       "Blank (No Answer)                                                  830\n",
       "Did not think \\n you needed \\n treatment\\n at the time             286\n",
       "Ashamed, \\nembarrassed,\\n afraid, \\nor sign of \\nweakness          279\n",
       "No health \\n insurance\\n coverage                                  263\n",
       "Could \\nnot afford\\n the cost                                      248\n",
       "Did not have\\n time (b/c \\nof job, \\nchildcare, \\nother)           244\n",
       "Unmotivated/\\ndepressed\\n/confused\\n/angry\\n/unworthy              230\n",
       "No openings/\\nlong waiting\\n list/delays                           194\n",
       "Thought \\ncould handle\\n problem w/o\\n treatment                   191\n",
       "Did not\\n want others\\n to find out \\nyou needed\\n treatmnt        172\n",
       "Did not\\n like how \\ntreated/do \\nnot like \\nDr(s)/hospitals       154\n",
       "Others \\ndissuaded/did\\n not want \\nyou to/\\nunsupportive          152\n",
       "Attempted to\\n get trmt,\\nunsuccessful in\\n finding help           146\n",
       "Bad Data                                                           135\n",
       "Did not want to; reason unspecified                                129\n",
       "Do not Know                                                        119\n",
       "Concerned might be committed/take medicine .                       116\n",
       "Did not think treatment would help                                 113\n",
       "No program/counselor competent/comfortable with                    111\n",
       "Did not know where to go to get services                           101\n",
       "Afraid too painful/unpleasant/afraid of diagnosis                   96\n",
       "Had other problems/issues to deal with                              95\n",
       "Did not want to talk about your problems w/anyone                   76\n",
       "Services unavailable in your area/services limited                  72\n",
       "Some other reason or reasons                                        69\n",
       "Concerned how the court system would treat you                      59\n",
       "No transportation/too far away/hrs inconvenient                     51\n",
       "Too much red tape/hassle to get services                            49\n",
       "Work on your problems with family/friends                           45\n",
       "Just never went/made appointment/arrangements                       36\n",
       "Concerned might have a neg effect on your job                       28\n",
       "Did/had appt for mental health trmt/counseling                      26\n",
       "Concerned neighbors/\\ncommunity have neg opinion                    22\n",
       "Concerned info might not be kept confidential                       21\n",
       "Health ins doesnt pay enuf for ment hlth tmt                        20\n",
       "Health ins wont accept preferred provider/tmt                       17\n",
       "Health ins doesnt cover any mental hlth tmt                         15\n",
       "Were using alcohol/drugs                                            12\n",
       "Preferrd providr wont/may not accept hlth ins plan                   9\n",
       "Services desired unavailable/currently ineligible                    9\n",
       "Too afraid to leave the house                                        8\n",
       "Name: no_care_reasons, dtype: int64"
      ]
     },
     "execution_count": 13,
     "metadata": {},
     "output_type": "execute_result"
    }
   ],
   "source": [
    "#Transform code to an actual reason of no care instead of answer being a number.\n",
    "df['no_care_reasons'] = df['no_care_reasons'].map({1: 'Could \\nnot afford\\n the cost',\n",
    "                                                2: 'Concerned neighbors/\\ncommunity have neg opinion',\n",
    "                                                3: 'Concerned might have a neg effect on your job',\n",
    "                                                4: 'Health ins doesnt cover any mental hlth tmt',\n",
    "                                                5: 'Health ins doesnt pay enuf for ment hlth tmt',\n",
    "                                                6: 'Did not know where to go to get services',\n",
    "                                                7: 'Concerned info might not be kept confidential',\n",
    "                                                8: 'Concerned might be committed/take medicine .',\n",
    "                                                9: 'Did not think \\n you needed \\n treatment\\n at the time',\n",
    "                                                10: 'Thought \\ncould handle\\n problem w/o\\n treatment ',\n",
    "                                                11: 'Did not think treatment would help',\n",
    "                                                12: 'Did not have\\n time (b/c \\nof job, \\nchildcare, \\nother)',\n",
    "                                                13: 'Did not\\n want others\\n to find out \\nyou needed\\n treatmnt',\n",
    "                                                14: 'No transportation/too far away/hrs inconvenient',\n",
    "                                                15: 'Some other reason or reasons',\n",
    "                                                16: 'Afraid too painful/unpleasant/afraid of diagnosis',\n",
    "                                                17: 'Others \\ndissuaded/did\\n not want \\nyou to/\\nunsupportive',\n",
    "                                                18: 'No health \\n insurance\\n coverage',\n",
    "                                                19: 'Ashamed, \\nembarrassed,\\n afraid, \\nor sign of \\nweakness',\n",
    "                                                21: 'Did not want to; reason unspecified',\n",
    "                                                22: 'Unmotivated/\\ndepressed\\n/confused\\n/angry\\n/unworthy',\n",
    "                                                23: 'Services unavailable in your area/services limited',\n",
    "                                                24: 'Did not want to talk about your problems w/anyone',\n",
    "                                                25: 'Did not\\n like how \\ntreated/do \\nnot like \\nDr(s)/hospitals',\n",
    "                                                26: 'Attempted to\\n get trmt,\\nunsuccessful in\\n finding help',\n",
    "                                                27: 'Concerned how the court system would treat you',\n",
    "                                                28: 'No program/counselor competent/comfortable with',\n",
    "                                                29: 'Just never went/made appointment/arrangements',\n",
    "                                                30: 'Work on your problems with family/friends',\n",
    "                                                32: 'Too much red tape/hassle to get services',\n",
    "                                                33: 'No openings/\\nlong waiting\\n list/delays',\n",
    "                                                34: 'Had other problems/issues to deal with',\n",
    "                                                37: 'Were using alcohol/drugs',\n",
    "                                                38: 'Too afraid to leave the house',\n",
    "                                                41: 'Preferrd providr wont/may not accept hlth ins plan',\n",
    "                                                42: 'Health ins wont accept preferred provider/tmt',\n",
    "                                                44: 'Services desired unavailable/currently ineligible',\n",
    "                                                70: 'Did/had appt for mental health trmt/counseling',\n",
    "                                                85: 'Bad Data',\n",
    "                                                94: 'Do not Know',\n",
    "                                                97: 'Refused',\n",
    "                                                98: 'Blank (No Answer)',\n",
    "                                                99: 'LEGITIMATE SKIP'})\n",
    "df['no_care_reasons'].value_counts()"
   ]
  },
  {
   "cell_type": "code",
   "execution_count": 14,
   "id": "micro-champion",
   "metadata": {},
   "outputs": [],
   "source": [
    "df.to_csv('newdata_v3.csv')"
   ]
  },
  {
   "cell_type": "markdown",
   "id": "arabic-implement",
   "metadata": {},
   "source": [
    "### Column Transformation: sex, race, hltsrv, hltin\n",
    "    - Input: rawdata.csv\n",
    "    - Output: sex_race_hltin_hltsrv.csv to be merged to newdata_v3.csv"
   ]
  },
  {
   "cell_type": "code",
   "execution_count": 15,
   "id": "mature-punishment",
   "metadata": {},
   "outputs": [],
   "source": [
    "df = pd.read_csv('newdata_v3.csv')\n",
    "\n",
    "# Strip whitespaces\n",
    "df = df.apply(lambda x:x.str.strip() if x.dtype == \"object\" else x, axis = 0)\n",
    "\n",
    "# sex column transformation\n",
    "ini = [item for item in df.sex.unique()]\n",
    "genders = ['Male', 'Female']\n",
    "df['sex'] = df['sex'].replace(ini, genders)\n",
    "\n",
    "# race column transformation\n",
    "ini = [item for item in df.race.unique()]\n",
    "races = ['White', 'Asian', 'Black/African American', 'Multiple Races', 'Hispanic', 'Native Highlander/Other Pacific Islander', 'American Indian/Alaskan Natives']\n",
    "df['race'] = df['race'].replace(ini, races)"
   ]
  },
  {
   "cell_type": "code",
   "execution_count": 16,
   "id": "played-planning",
   "metadata": {},
   "outputs": [
    {
     "data": {
      "text/plain": [
       "Female    308384\n",
       "Male      291023\n",
       "Name: sex, dtype: int64"
      ]
     },
     "execution_count": 16,
     "metadata": {},
     "output_type": "execute_result"
    }
   ],
   "source": [
    "# check transformation\n",
    "df.sex.value_counts()"
   ]
  },
  {
   "cell_type": "code",
   "execution_count": 17,
   "id": "increased-lender",
   "metadata": {},
   "outputs": [
    {
     "data": {
      "text/plain": [
       "White                                       360840\n",
       "Multiple Races                              104047\n",
       "Hispanic                                     78812\n",
       "Asian                                        22321\n",
       "Black/African American                       21384\n",
       "Native Highlander/Other Pacific Islander      8989\n",
       "American Indian/Alaskan Natives               3014\n",
       "Name: race, dtype: int64"
      ]
     },
     "execution_count": 17,
     "metadata": {},
     "output_type": "execute_result"
    }
   ],
   "source": [
    "# check transformation\n",
    "df.race.value_counts()"
   ]
  },
  {
   "cell_type": "code",
   "execution_count": 18,
   "id": "activated-leadership",
   "metadata": {},
   "outputs": [
    {
     "data": {
      "text/plain": [
       "None                                       302660\n",
       "Prescriptions                               20707\n",
       "Outpatient and Prescriptions                15055\n",
       "Outpatient                                   8382\n",
       "Inpatient, Outpatient and Prescriptions      1789\n",
       "Inpatient                                    1022\n",
       "Inpatient and Prescriptions                   649\n",
       "Inpatient and Outpatient                      389\n",
       "Unknown                                        66\n",
       "Name: hltsrv, dtype: int64"
      ]
     },
     "execution_count": 18,
     "metadata": {},
     "output_type": "execute_result"
    }
   ],
   "source": [
    "# inpatient/outpatient/rx column combination into hlt_srv\n",
    "df['rcvd_inpat'] = df['rcvd_inpat'].map({\n",
    "    1 :'Yes',\n",
    "    2: 'No',\n",
    "    np.nan: 'Unknown'\n",
    "})\n",
    "\n",
    "df['rcvd_outpat'] = df['rcvd_outpat'].map({\n",
    "    1:'Yes',\n",
    "    2: 'No',\n",
    "    np.nan: 'Unknown'\n",
    "})\n",
    "\n",
    "df['rcvd_rx'] = df['rcvd_rx'].map({\n",
    "    1:'Yes',\n",
    "    2: 'No',\n",
    "    np.nan: 'Unknown'\n",
    "})\n",
    "\n",
    "# Combine columns in Dataframe test to column hlt_srv\n",
    "test = df.copy()\n",
    "mask1 = (test['rcvd_inpat'] != 'Yes') & (test['rcvd_outpat'] != 'Yes') & (test['rcvd_rx'] != 'Yes') & (~(test['rcvd_inpat'] == 'No') & (test['rcvd_outpat'] == 'No') & (test['rcvd_rx'] == 'No'))\n",
    "test.loc[mask1,'hlt_sv'] = 'Unknown'\n",
    "mask2 = (test['rcvd_inpat'] == 'No') & (test['rcvd_outpat'] == 'No') & (test['rcvd_rx'] == 'No')\n",
    "test.loc[mask2,'hlt_sv'] = 'None'\n",
    "mask3 = (test['rcvd_inpat'] == 'Yes') & (test['rcvd_outpat'] != 'Yes') & (test['rcvd_rx'] != 'Yes')\n",
    "test.loc[mask3,'hlt_sv'] = 'Inpatient'\n",
    "mask4 = (test['rcvd_inpat'] != 'Yes') & (test['rcvd_outpat'] == 'Yes') & (test['rcvd_rx'] != 'Yes')\n",
    "test.loc[mask4,'hlt_sv'] = 'Outpatient'\n",
    "mask5 = (test['rcvd_inpat'] != 'Yes') & (test['rcvd_outpat'] != 'Yes') & (test['rcvd_rx'] == 'Yes')\n",
    "test.loc[mask5,'hlt_sv'] = 'Prescriptions'\n",
    "mask6 = (test['rcvd_inpat'] == 'Yes') & (test['rcvd_outpat'] == 'Yes') & (test['rcvd_rx'] != 'Yes')\n",
    "test.loc[mask6,'hlt_sv'] = 'Inpatient and Outpatient'\n",
    "mask7 = (test['rcvd_inpat'] == 'Yes') & (test['rcvd_outpat'] != 'Yes') & (test['rcvd_rx'] == 'Yes')\n",
    "test.loc[mask7,'hlt_sv'] = 'Inpatient and Prescriptions'\n",
    "mask8 = (test['rcvd_inpat'] != 'Yes') & (test['rcvd_outpat'] == 'Yes') & (test['rcvd_rx'] == 'Yes')\n",
    "test.loc[mask8,'hlt_sv'] = 'Outpatient and Prescriptions'\n",
    "mask9 = (test['rcvd_inpat'] == 'Yes') & (test['rcvd_outpat'] == 'Yes') & (test['rcvd_rx'] == 'Yes')\n",
    "test.loc[mask9,'hlt_sv'] = 'Inpatient, Outpatient and Prescriptions'\n",
    "\n",
    "# Add new column hltsrv to df base on hlt_srv from test\n",
    "df.loc[:,'hltsrv'] = test['hlt_sv']\n",
    "df.hltsrv.value_counts()"
   ]
  },
  {
   "cell_type": "code",
   "execution_count": 19,
   "id": "aerial-visiting",
   "metadata": {},
   "outputs": [],
   "source": [
    "# Types of Insurance: combine into hltin\n",
    "\n",
    "# Make a copy of df and select useable columns\n",
    "test = df.copy()\n",
    "test = test[['medicare', 'caidchip', 'champus', 'prvhltin', 'grphltin']]\n",
    "for col in ['medicare', 'caidchip', 'champus', 'prvhltin', 'grphltin']:\n",
    "    mask = ~test[col].isin([1,2])\n",
    "    test.loc[mask,col] = 'Other'\n",
    "\n",
    "# Combine group and private insurances\n",
    "mask = test['prvhltin'] != 1\n",
    "test.loc[mask, 'prv_grp_comb'] = 'No'\n",
    "mask = (test['prvhltin'] == 1) & (test['grphltin'] != 1)\n",
    "test.loc[mask, 'prv_grp_comb'] = 'prv'\n",
    "mask = (test['prvhltin'] == 1) & (test['grphltin'] == 1)\n",
    "test.loc[mask, 'prv_grp_comb'] = 'grp'\n",
    "\n",
    "# Combine all the insurances into one column\n",
    "mask = (test['medicare'] == 1) & (test['caidchip'] == 1) & (test['champus'] == 1) & (test['prv_grp_comb'] == 'prv')\n",
    "test.loc[mask, 'hltin'] = 'Medicare, Medicaid, Military, and Private Health Insurance'\n",
    "mask = (test['medicare'] == 1) & (test['caidchip'] == 1) & (test['champus'] == 1) & (test['prv_grp_comb'] == 'grp')\n",
    "test.loc[mask, 'hltin'] = 'Medicare, Medicaid, Military, and Group Offered Health Insurance'\n",
    "mask = (test['medicare'] == 1) & (test['caidchip'] == 1) & (test['champus'] == 1) & (test['prv_grp_comb'] == 'No')\n",
    "test.loc[mask, 'hltin'] = 'Medicare, Medicaid, and Military'\n",
    "\n",
    "mask = (test['medicare'] == 1) & (test['caidchip'] != 1) & (test['champus'] == 1) & (test['prv_grp_comb'] == 'prv')\n",
    "test.loc[mask, 'hltin'] = 'Medicare, Military, and Private Health Insurance'\n",
    "mask = (test['medicare'] == 1) & (test['caidchip'] == 1) & (test['champus'] != 1) & (test['prv_grp_comb'] == 'prv')\n",
    "test.loc[mask, 'hltin'] = 'Medicare, Medicaid, and Private Health Insurance'\n",
    "mask = (test['medicare'] != 1) & (test['caidchip'] == 1) & (test['champus'] == 1) & (test['prv_grp_comb'] == 'prv')\n",
    "test.loc[mask, 'hltin'] = 'Medicaid, Military, and Private Health Insurance'\n",
    "\n",
    "mask = (test['medicare'] == 1) & (test['caidchip'] != 1) & (test['champus'] == 1) & (test['prv_grp_comb'] == 'grp')\n",
    "test.loc[mask, 'hltin'] = 'Medicare, Military, and Group Offered Health Insurance'\n",
    "mask = (test['medicare'] == 1) & (test['caidchip'] == 1) & (test['champus'] != 1) & (test['prv_grp_comb'] == 'grp')\n",
    "test.loc[mask, 'hltin'] = 'Medicare, Medicaid, and Group Offered Health Insurance'\n",
    "mask = (test['medicare'] != 1) & (test['caidchip'] == 1) & (test['champus'] == 1) & (test['prv_grp_comb'] == 'grp')\n",
    "test.loc[mask, 'hltin'] = 'Medicaid, Military, and Group Offered Health Insurance'\n",
    "\n",
    "mask = (test['medicare'] == 1) & (test['caidchip'] != 1) & (test['champus'] != 1) & (test['prv_grp_comb'] == 'prv')\n",
    "test.loc[mask, 'hltin'] = 'Medicare and Private Health Insurance'\n",
    "mask = (test['medicare'] != 1) & (test['caidchip'] == 1) & (test['champus'] != 1) & (test['prv_grp_comb'] == 'prv')\n",
    "test.loc[mask, 'hltin'] = 'Medicaid and Private Health Insurance'\n",
    "mask = (test['medicare'] != 1) & (test['caidchip'] != 1) & (test['champus'] == 1) & (test['prv_grp_comb'] == 'prv')\n",
    "test.loc[mask, 'hltin'] = 'Military and Private Health Insurance'\n",
    "\n",
    "mask = (test['medicare'] == 1) & (test['caidchip'] != 1) & (test['champus'] != 1) & (test['prv_grp_comb'] == 'grp')\n",
    "test.loc[mask, 'hltin'] = 'Medicare and Group Offered Health Insurance'\n",
    "mask = (test['medicare'] != 1) & (test['caidchip'] == 1) & (test['champus'] != 1) & (test['prv_grp_comb'] == 'grp')\n",
    "test.loc[mask, 'hltin'] = 'Medicaid and Group Offered Health Insurance'\n",
    "mask = (test['medicare'] != 1) & (test['caidchip'] != 1) & (test['champus'] == 1) & (test['prv_grp_comb'] == 'grp')\n",
    "test.loc[mask, 'hltin'] = 'Military and Group Offered Health Insurance'\n",
    "\n",
    "mask = (test['medicare'] == 1) & (test['caidchip'] != 1) & (test['champus'] == 1) & (test['prv_grp_comb'] == 'No')\n",
    "test.loc[mask, 'hltin'] = 'Medicare and Military'\n",
    "mask = (test['medicare'] == 1) & (test['caidchip'] == 1) & (test['champus'] != 1) & (test['prv_grp_comb'] == 'No')\n",
    "test.loc[mask, 'hltin'] = 'Medicare and Medicaid'\n",
    "mask = (test['medicare'] != 1) & (test['caidchip'] == 1) & (test['champus'] == 1) & (test['prv_grp_comb'] == 'No')\n",
    "test.loc[mask, 'hltin'] = 'Medicaid and Military'\n",
    "\n",
    "mask = (test['medicare'] == 1) & (test['caidchip'] != 1) & (test['champus'] != 1) & (test['prv_grp_comb'] == 'No')\n",
    "test.loc[mask, 'hltin'] = 'Medicare'\n",
    "mask = (test['medicare'] != 1) & (test['caidchip'] == 1) & (test['champus'] != 1) & (test['prv_grp_comb'] == 'No')\n",
    "test.loc[mask, 'hltin'] = 'Medicaid'\n",
    "mask = (test['medicare'] != 1) & (test['caidchip'] != 1) & (test['champus'] == 1) & (test['prv_grp_comb'] == 'No')\n",
    "test.loc[mask, 'hltin'] = 'Military'\n",
    "\n",
    "mask = (test['medicare'] != 1) & (test['caidchip'] != 1) & (test['champus'] != 1) & (test['prv_grp_comb'] == 'prv')\n",
    "test.loc[mask, 'hltin'] = 'Private Health Insurance'\n",
    "mask = (test['medicare'] != 1) & (test['caidchip'] != 1) & (test['champus'] != 1) & (test['prv_grp_comb'] == 'grp')\n",
    "test.loc[mask, 'hltin'] = 'Group Offered Health Insurance'\n",
    "\n",
    "mask = (test['medicare'] != 1) & (test['caidchip'] != 1) & (test['champus'] != 1) & (test['prv_grp_comb'] == 'No')\n",
    "test.loc[mask, 'hltin'] = 'None'\n",
    "\n",
    "# Add the new column to the df\n",
    "df.loc[:,'hltin'] = test['hltin']"
   ]
  },
  {
   "cell_type": "code",
   "execution_count": 20,
   "id": "legitimate-surname",
   "metadata": {
    "scrolled": true
   },
   "outputs": [
    {
     "data": {
      "text/plain": [
       "Group Offered Health Insurance                                      314227\n",
       "Medicaid                                                            110296\n",
       "None                                                                106464\n",
       "Private Health Insurance                                             28264\n",
       "Military                                                             12317\n",
       "Medicaid and Group Offered Health Insurance                          10151\n",
       "Military and Group Offered Health Insurance                           4220\n",
       "Medicare and Medicaid                                                 4061\n",
       "Medicare                                                              3163\n",
       "Medicare and Group Offered Health Insurance                           1502\n",
       "Medicaid and Private Health Insurance                                 1311\n",
       "Medicaid and Military                                                 1097\n",
       "Medicare and Private Health Insurance                                  625\n",
       "Medicare and Military                                                  381\n",
       "Medicare, Medicaid, and Group Offered Health Insurance                 362\n",
       "Military and Private Health Insurance                                  330\n",
       "Medicaid, Military, and Group Offered Health Insurance                 179\n",
       "Medicare, Medicaid, and Private Health Insurance                       144\n",
       "Medicare, Medicaid, and Military                                       123\n",
       "Medicare, Military, and Group Offered Health Insurance                  82\n",
       "Medicare, Medicaid, Military, and Group Offered Health Insurance        52\n",
       "Medicare, Military, and Private Health Insurance                        25\n",
       "Medicaid, Military, and Private Health Insurance                        25\n",
       "Medicare, Medicaid, Military, and Private Health Insurance               6\n",
       "Name: hltin, dtype: int64"
      ]
     },
     "execution_count": 20,
     "metadata": {},
     "output_type": "execute_result"
    }
   ],
   "source": [
    "# Check transformation\n",
    "df.hltin.value_counts()"
   ]
  },
  {
   "cell_type": "code",
   "execution_count": 21,
   "id": "former-cancellation",
   "metadata": {},
   "outputs": [],
   "source": [
    "# Remove columns; convert to csv\n",
    "final_cols = ['ID',\n",
    "'year',\n",
    "'age',\n",
    "'sex',\n",
    "'race',\n",
    "'fam_income',\n",
    "'hltin',\n",
    "'hltsrv',\n",
    "'MH_covered',\n",
    "'unmet_need',\n",
    "'no_care_reasons',\n",
    "'amt_paid_inpat',\n",
    "'who_paid_inpat',\n",
    "'who_paid_outpat',\n",
    "'amt_paid']\n",
    "df = df[final_cols]\n",
    "df.to_csv('final_data')"
   ]
  },
  {
   "cell_type": "code",
   "execution_count": 22,
   "id": "chemical-cornell",
   "metadata": {},
   "outputs": [
    {
     "data": {
      "text/html": [
       "<div>\n",
       "<style scoped>\n",
       "    .dataframe tbody tr th:only-of-type {\n",
       "        vertical-align: middle;\n",
       "    }\n",
       "\n",
       "    .dataframe tbody tr th {\n",
       "        vertical-align: top;\n",
       "    }\n",
       "\n",
       "    .dataframe thead th {\n",
       "        text-align: right;\n",
       "    }\n",
       "</style>\n",
       "<table border=\"1\" class=\"dataframe\">\n",
       "  <thead>\n",
       "    <tr style=\"text-align: right;\">\n",
       "      <th></th>\n",
       "      <th>Unnamed: 0</th>\n",
       "      <th>ID</th>\n",
       "      <th>year</th>\n",
       "      <th>age</th>\n",
       "      <th>sex</th>\n",
       "      <th>race</th>\n",
       "      <th>fam_income</th>\n",
       "      <th>hltin</th>\n",
       "      <th>hltsrv</th>\n",
       "      <th>MH_covered</th>\n",
       "      <th>unmet_need</th>\n",
       "      <th>no_care_reasons</th>\n",
       "      <th>amt_paid_inpat</th>\n",
       "      <th>who_paid_inpat</th>\n",
       "      <th>who_paid_outpat</th>\n",
       "      <th>amt_paid</th>\n",
       "    </tr>\n",
       "  </thead>\n",
       "  <tbody>\n",
       "    <tr>\n",
       "      <th>0</th>\n",
       "      <td>0</td>\n",
       "      <td>2000024</td>\n",
       "      <td>2002</td>\n",
       "      <td>13</td>\n",
       "      <td>Male</td>\n",
       "      <td>White</td>\n",
       "      <td>$50,000 to $74,999</td>\n",
       "      <td>Group Offered Health Insurance</td>\n",
       "      <td>None</td>\n",
       "      <td>Yes</td>\n",
       "      <td>No</td>\n",
       "      <td>LEGITIMATE SKIP</td>\n",
       "      <td>skip</td>\n",
       "      <td>NaN</td>\n",
       "      <td>99</td>\n",
       "      <td>NaN</td>\n",
       "    </tr>\n",
       "    <tr>\n",
       "      <th>1</th>\n",
       "      <td>1</td>\n",
       "      <td>2000239</td>\n",
       "      <td>2002</td>\n",
       "      <td>12</td>\n",
       "      <td>Female</td>\n",
       "      <td>Asian</td>\n",
       "      <td>$75,000 or more</td>\n",
       "      <td>Group Offered Health Insurance</td>\n",
       "      <td>None</td>\n",
       "      <td>Do not Know</td>\n",
       "      <td>No</td>\n",
       "      <td>LEGITIMATE SKIP</td>\n",
       "      <td>skip</td>\n",
       "      <td>NaN</td>\n",
       "      <td>99</td>\n",
       "      <td>NaN</td>\n",
       "    </tr>\n",
       "    <tr>\n",
       "      <th>2</th>\n",
       "      <td>2</td>\n",
       "      <td>2000248</td>\n",
       "      <td>2002</td>\n",
       "      <td>9</td>\n",
       "      <td>Male</td>\n",
       "      <td>White</td>\n",
       "      <td>Less than $10,000 (including loss)</td>\n",
       "      <td>None</td>\n",
       "      <td>None</td>\n",
       "      <td>Blank (No Answer)</td>\n",
       "      <td>No</td>\n",
       "      <td>LEGITIMATE SKIP</td>\n",
       "      <td>skip</td>\n",
       "      <td>NaN</td>\n",
       "      <td>99</td>\n",
       "      <td>NaN</td>\n",
       "    </tr>\n",
       "    <tr>\n",
       "      <th>3</th>\n",
       "      <td>3</td>\n",
       "      <td>2000471</td>\n",
       "      <td>2002</td>\n",
       "      <td>12</td>\n",
       "      <td>Male</td>\n",
       "      <td>Black/African American</td>\n",
       "      <td>Less than $10,000 (including loss)</td>\n",
       "      <td>Private Health Insurance</td>\n",
       "      <td>Prescriptions</td>\n",
       "      <td>Yes</td>\n",
       "      <td>No</td>\n",
       "      <td>LEGITIMATE SKIP</td>\n",
       "      <td>skip</td>\n",
       "      <td>NaN</td>\n",
       "      <td>99</td>\n",
       "      <td>NaN</td>\n",
       "    </tr>\n",
       "    <tr>\n",
       "      <th>4</th>\n",
       "      <td>4</td>\n",
       "      <td>2000630</td>\n",
       "      <td>2002</td>\n",
       "      <td>16</td>\n",
       "      <td>Female</td>\n",
       "      <td>White</td>\n",
       "      <td>$40,000 to $49,999</td>\n",
       "      <td>Medicare and Group Offered Health Insurance</td>\n",
       "      <td>Prescriptions</td>\n",
       "      <td>Yes</td>\n",
       "      <td>No</td>\n",
       "      <td>LEGITIMATE SKIP</td>\n",
       "      <td>skip</td>\n",
       "      <td>NaN</td>\n",
       "      <td>99</td>\n",
       "      <td>NaN</td>\n",
       "    </tr>\n",
       "    <tr>\n",
       "      <th>...</th>\n",
       "      <td>...</td>\n",
       "      <td>...</td>\n",
       "      <td>...</td>\n",
       "      <td>...</td>\n",
       "      <td>...</td>\n",
       "      <td>...</td>\n",
       "      <td>...</td>\n",
       "      <td>...</td>\n",
       "      <td>...</td>\n",
       "      <td>...</td>\n",
       "      <td>...</td>\n",
       "      <td>...</td>\n",
       "      <td>...</td>\n",
       "      <td>...</td>\n",
       "      <td>...</td>\n",
       "      <td>...</td>\n",
       "    </tr>\n",
       "    <tr>\n",
       "      <th>599402</th>\n",
       "      <td>599402</td>\n",
       "      <td>99979928</td>\n",
       "      <td>2019</td>\n",
       "      <td>11</td>\n",
       "      <td>Male</td>\n",
       "      <td>Multiple Races</td>\n",
       "      <td>$75,000 or more</td>\n",
       "      <td>Group Offered Health Insurance</td>\n",
       "      <td>None</td>\n",
       "      <td>Yes</td>\n",
       "      <td>No</td>\n",
       "      <td>LEGITIMATE SKIP</td>\n",
       "      <td>skip</td>\n",
       "      <td>NaN</td>\n",
       "      <td>99</td>\n",
       "      <td>NaN</td>\n",
       "    </tr>\n",
       "    <tr>\n",
       "      <th>599403</th>\n",
       "      <td>599403</td>\n",
       "      <td>99980998</td>\n",
       "      <td>2019</td>\n",
       "      <td>12</td>\n",
       "      <td>Male</td>\n",
       "      <td>White</td>\n",
       "      <td>$10,000 to $19,999</td>\n",
       "      <td>Group Offered Health Insurance</td>\n",
       "      <td>None</td>\n",
       "      <td>Yes</td>\n",
       "      <td>No</td>\n",
       "      <td>LEGITIMATE SKIP</td>\n",
       "      <td>skip</td>\n",
       "      <td>NaN</td>\n",
       "      <td>99</td>\n",
       "      <td>NaN</td>\n",
       "    </tr>\n",
       "    <tr>\n",
       "      <th>599404</th>\n",
       "      <td>599404</td>\n",
       "      <td>99983445</td>\n",
       "      <td>2019</td>\n",
       "      <td>16</td>\n",
       "      <td>Female</td>\n",
       "      <td>White</td>\n",
       "      <td>$50,000 to $74,999</td>\n",
       "      <td>Group Offered Health Insurance</td>\n",
       "      <td>None</td>\n",
       "      <td>Do not Know</td>\n",
       "      <td>No</td>\n",
       "      <td>LEGITIMATE SKIP</td>\n",
       "      <td>skip</td>\n",
       "      <td>NaN</td>\n",
       "      <td>99</td>\n",
       "      <td>NaN</td>\n",
       "    </tr>\n",
       "    <tr>\n",
       "      <th>599405</th>\n",
       "      <td>599405</td>\n",
       "      <td>99985080</td>\n",
       "      <td>2019</td>\n",
       "      <td>16</td>\n",
       "      <td>Male</td>\n",
       "      <td>White</td>\n",
       "      <td>$30,000 to $39,999</td>\n",
       "      <td>None</td>\n",
       "      <td>None</td>\n",
       "      <td>LEGITIMATE SKIP (PRVHLTIN = 2)</td>\n",
       "      <td>No</td>\n",
       "      <td>LEGITIMATE SKIP</td>\n",
       "      <td>skip</td>\n",
       "      <td>NaN</td>\n",
       "      <td>99</td>\n",
       "      <td>NaN</td>\n",
       "    </tr>\n",
       "    <tr>\n",
       "      <th>599406</th>\n",
       "      <td>599406</td>\n",
       "      <td>99988589</td>\n",
       "      <td>2019</td>\n",
       "      <td>16</td>\n",
       "      <td>Female</td>\n",
       "      <td>White</td>\n",
       "      <td>$10,000 to $19,999</td>\n",
       "      <td>Group Offered Health Insurance</td>\n",
       "      <td>None</td>\n",
       "      <td>No</td>\n",
       "      <td>No</td>\n",
       "      <td>LEGITIMATE SKIP</td>\n",
       "      <td>skip</td>\n",
       "      <td>NaN</td>\n",
       "      <td>99</td>\n",
       "      <td>NaN</td>\n",
       "    </tr>\n",
       "  </tbody>\n",
       "</table>\n",
       "<p>599407 rows × 16 columns</p>\n",
       "</div>"
      ],
      "text/plain": [
       "        Unnamed: 0        ID  year  age     sex                    race  \\\n",
       "0                0   2000024  2002   13    Male                   White   \n",
       "1                1   2000239  2002   12  Female                   Asian   \n",
       "2                2   2000248  2002    9    Male                   White   \n",
       "3                3   2000471  2002   12    Male  Black/African American   \n",
       "4                4   2000630  2002   16  Female                   White   \n",
       "...            ...       ...   ...  ...     ...                     ...   \n",
       "599402      599402  99979928  2019   11    Male          Multiple Races   \n",
       "599403      599403  99980998  2019   12    Male                   White   \n",
       "599404      599404  99983445  2019   16  Female                   White   \n",
       "599405      599405  99985080  2019   16    Male                   White   \n",
       "599406      599406  99988589  2019   16  Female                   White   \n",
       "\n",
       "                                fam_income  \\\n",
       "0                       $50,000 to $74,999   \n",
       "1                          $75,000 or more   \n",
       "2       Less than $10,000 (including loss)   \n",
       "3       Less than $10,000 (including loss)   \n",
       "4                       $40,000 to $49,999   \n",
       "...                                    ...   \n",
       "599402                     $75,000 or more   \n",
       "599403                  $10,000 to $19,999   \n",
       "599404                  $50,000 to $74,999   \n",
       "599405                  $30,000 to $39,999   \n",
       "599406                  $10,000 to $19,999   \n",
       "\n",
       "                                              hltin         hltsrv  \\\n",
       "0                    Group Offered Health Insurance           None   \n",
       "1                    Group Offered Health Insurance           None   \n",
       "2                                              None           None   \n",
       "3                          Private Health Insurance  Prescriptions   \n",
       "4       Medicare and Group Offered Health Insurance  Prescriptions   \n",
       "...                                             ...            ...   \n",
       "599402               Group Offered Health Insurance           None   \n",
       "599403               Group Offered Health Insurance           None   \n",
       "599404               Group Offered Health Insurance           None   \n",
       "599405                                         None           None   \n",
       "599406               Group Offered Health Insurance           None   \n",
       "\n",
       "                            MH_covered unmet_need  no_care_reasons  \\\n",
       "0                                  Yes         No  LEGITIMATE SKIP   \n",
       "1                          Do not Know         No  LEGITIMATE SKIP   \n",
       "2                    Blank (No Answer)         No  LEGITIMATE SKIP   \n",
       "3                                  Yes         No  LEGITIMATE SKIP   \n",
       "4                                  Yes         No  LEGITIMATE SKIP   \n",
       "...                                ...        ...              ...   \n",
       "599402                             Yes         No  LEGITIMATE SKIP   \n",
       "599403                             Yes         No  LEGITIMATE SKIP   \n",
       "599404                     Do not Know         No  LEGITIMATE SKIP   \n",
       "599405  LEGITIMATE SKIP (PRVHLTIN = 2)         No  LEGITIMATE SKIP   \n",
       "599406                              No         No  LEGITIMATE SKIP   \n",
       "\n",
       "       amt_paid_inpat who_paid_inpat  who_paid_outpat amt_paid  \n",
       "0                skip            NaN               99      NaN  \n",
       "1                skip            NaN               99      NaN  \n",
       "2                skip            NaN               99      NaN  \n",
       "3                skip            NaN               99      NaN  \n",
       "4                skip            NaN               99      NaN  \n",
       "...               ...            ...              ...      ...  \n",
       "599402           skip            NaN               99      NaN  \n",
       "599403           skip            NaN               99      NaN  \n",
       "599404           skip            NaN               99      NaN  \n",
       "599405           skip            NaN               99      NaN  \n",
       "599406           skip            NaN               99      NaN  \n",
       "\n",
       "[599407 rows x 16 columns]"
      ]
     },
     "execution_count": 22,
     "metadata": {},
     "output_type": "execute_result"
    }
   ],
   "source": [
    "pd.read_csv('final_data')"
   ]
  },
  {
   "cell_type": "markdown",
   "id": "alpine-target",
   "metadata": {},
   "source": [
    "### Final data file: final_data.csv"
   ]
  },
  {
   "cell_type": "markdown",
   "id": "missing-timing",
   "metadata": {},
   "source": [
    "# Data used for Choropleth Map"
   ]
  },
  {
   "cell_type": "code",
   "execution_count": 23,
   "id": "4fe74eac",
   "metadata": {},
   "outputs": [],
   "source": [
    "import geopandas as gpd"
   ]
  },
  {
   "cell_type": "code",
   "execution_count": 24,
   "id": "proud-payday",
   "metadata": {},
   "outputs": [],
   "source": [
    "file = 'per.csv'"
   ]
  },
  {
   "cell_type": "code",
   "execution_count": 25,
   "id": "3401e055",
   "metadata": {},
   "outputs": [],
   "source": [
    "# Original data for 2014-2015 is in the format of %\n",
    "df_per = pd.read_csv(file)\n",
    "df_per.loc[df_per.Year.isin([2014, 2015]), 'sermh_per'] = df_per[df_per.Year.isin([2014, 2015])].sermh_per.div(100).round(5)\n",
    "df_per.loc[df_per.Year.isin([2014, 2015]), 'anymh_per'] = df_per[df_per.Year.isin([2014, 2015])].anymh_per.div(100).round(5)"
   ]
  },
  {
   "cell_type": "code",
   "execution_count": 26,
   "id": "39cb261b",
   "metadata": {},
   "outputs": [],
   "source": [
    "# Add column Type; combine sermh_per and anymh_per into column Cases\n",
    "df_anymh = df_per.copy()\n",
    "df_anymh = df_anymh.drop(columns = ['sermh_per'])\n",
    "df_anymh.loc[:,'Type'] = 'Percent of Any Mental Illnesses'\n",
    "df_anymh = df_anymh.rename(columns = {'anymh_per':'Cases'})\n",
    "\n",
    "df_sermh = df_per.copy()\n",
    "df_sermh = df_sermh.drop(columns = ['anymh_per'])\n",
    "df_sermh.loc[:,'Type'] = 'Percent of Serious Mental Illnesses'\n",
    "df_sermh = df_sermh.rename(columns = {'sermh_per':'Cases'})\n",
    "\n",
    "# Combine the df's\n",
    "df_all_per = pd.concat([df_anymh, df_sermh], ignore_index=True)"
   ]
  },
  {
   "cell_type": "code",
   "execution_count": 27,
   "id": "cce618c8",
   "metadata": {},
   "outputs": [
    {
     "data": {
      "text/html": [
       "<div>\n",
       "<style scoped>\n",
       "    .dataframe tbody tr th:only-of-type {\n",
       "        vertical-align: middle;\n",
       "    }\n",
       "\n",
       "    .dataframe tbody tr th {\n",
       "        vertical-align: top;\n",
       "    }\n",
       "\n",
       "    .dataframe thead th {\n",
       "        text-align: right;\n",
       "    }\n",
       "</style>\n",
       "<table border=\"1\" class=\"dataframe\">\n",
       "  <thead>\n",
       "    <tr style=\"text-align: right;\">\n",
       "      <th></th>\n",
       "      <th>State</th>\n",
       "      <th>Cases</th>\n",
       "      <th>Year</th>\n",
       "      <th>Type</th>\n",
       "    </tr>\n",
       "  </thead>\n",
       "  <tbody>\n",
       "    <tr>\n",
       "      <th>0</th>\n",
       "      <td>Alabama</td>\n",
       "      <td>0.1397</td>\n",
       "      <td>2017</td>\n",
       "      <td>Percent of Population Received Services</td>\n",
       "    </tr>\n",
       "    <tr>\n",
       "      <th>1</th>\n",
       "      <td>Alaska</td>\n",
       "      <td>0.1302</td>\n",
       "      <td>2017</td>\n",
       "      <td>Percent of Population Received Services</td>\n",
       "    </tr>\n",
       "    <tr>\n",
       "      <th>2</th>\n",
       "      <td>Arizona</td>\n",
       "      <td>0.1324</td>\n",
       "      <td>2017</td>\n",
       "      <td>Percent of Population Received Services</td>\n",
       "    </tr>\n",
       "    <tr>\n",
       "      <th>3</th>\n",
       "      <td>Arkansas</td>\n",
       "      <td>0.1607</td>\n",
       "      <td>2017</td>\n",
       "      <td>Percent of Population Received Services</td>\n",
       "    </tr>\n",
       "    <tr>\n",
       "      <th>4</th>\n",
       "      <td>California</td>\n",
       "      <td>0.1172</td>\n",
       "      <td>2017</td>\n",
       "      <td>Percent of Population Received Services</td>\n",
       "    </tr>\n",
       "    <tr>\n",
       "      <th>...</th>\n",
       "      <td>...</td>\n",
       "      <td>...</td>\n",
       "      <td>...</td>\n",
       "      <td>...</td>\n",
       "    </tr>\n",
       "    <tr>\n",
       "      <th>148</th>\n",
       "      <td>Virginia</td>\n",
       "      <td>0.1485</td>\n",
       "      <td>2019</td>\n",
       "      <td>Percent of Population Received Services</td>\n",
       "    </tr>\n",
       "    <tr>\n",
       "      <th>149</th>\n",
       "      <td>Washington</td>\n",
       "      <td>0.1801</td>\n",
       "      <td>2019</td>\n",
       "      <td>Percent of Population Received Services</td>\n",
       "    </tr>\n",
       "    <tr>\n",
       "      <th>150</th>\n",
       "      <td>West Virginia</td>\n",
       "      <td>0.1885</td>\n",
       "      <td>2019</td>\n",
       "      <td>Percent of Population Received Services</td>\n",
       "    </tr>\n",
       "    <tr>\n",
       "      <th>151</th>\n",
       "      <td>Wisconsin</td>\n",
       "      <td>0.1926</td>\n",
       "      <td>2019</td>\n",
       "      <td>Percent of Population Received Services</td>\n",
       "    </tr>\n",
       "    <tr>\n",
       "      <th>152</th>\n",
       "      <td>Wyoming</td>\n",
       "      <td>0.1699</td>\n",
       "      <td>2019</td>\n",
       "      <td>Percent of Population Received Services</td>\n",
       "    </tr>\n",
       "  </tbody>\n",
       "</table>\n",
       "<p>153 rows × 4 columns</p>\n",
       "</div>"
      ],
      "text/plain": [
       "             State   Cases  Year                                     Type\n",
       "0          Alabama  0.1397  2017  Percent of Population Received Services\n",
       "1           Alaska  0.1302  2017  Percent of Population Received Services\n",
       "2          Arizona  0.1324  2017  Percent of Population Received Services\n",
       "3         Arkansas  0.1607  2017  Percent of Population Received Services\n",
       "4       California  0.1172  2017  Percent of Population Received Services\n",
       "..             ...     ...   ...                                      ...\n",
       "148       Virginia  0.1485  2019  Percent of Population Received Services\n",
       "149     Washington  0.1801  2019  Percent of Population Received Services\n",
       "150  West Virginia  0.1885  2019  Percent of Population Received Services\n",
       "151      Wisconsin  0.1926  2019  Percent of Population Received Services\n",
       "152        Wyoming  0.1699  2019  Percent of Population Received Services\n",
       "\n",
       "[153 rows x 4 columns]"
      ]
     },
     "execution_count": 27,
     "metadata": {},
     "output_type": "execute_result"
    }
   ],
   "source": [
    "# Read csv file for state percentages of population who received services\n",
    "df_received = pd.read_csv('map_received.csv')\n",
    "df_received"
   ]
  },
  {
   "cell_type": "code",
   "execution_count": 28,
   "id": "546250e9",
   "metadata": {},
   "outputs": [
    {
     "data": {
      "text/html": [
       "<div>\n",
       "<style scoped>\n",
       "    .dataframe tbody tr th:only-of-type {\n",
       "        vertical-align: middle;\n",
       "    }\n",
       "\n",
       "    .dataframe tbody tr th {\n",
       "        vertical-align: top;\n",
       "    }\n",
       "\n",
       "    .dataframe thead th {\n",
       "        text-align: right;\n",
       "    }\n",
       "</style>\n",
       "<table border=\"1\" class=\"dataframe\">\n",
       "  <thead>\n",
       "    <tr style=\"text-align: right;\">\n",
       "      <th></th>\n",
       "      <th>State</th>\n",
       "      <th>Cases</th>\n",
       "      <th>Year</th>\n",
       "      <th>Type</th>\n",
       "    </tr>\n",
       "  </thead>\n",
       "  <tbody>\n",
       "    <tr>\n",
       "      <th>0</th>\n",
       "      <td>Alabama</td>\n",
       "      <td>0.212901</td>\n",
       "      <td>2019</td>\n",
       "      <td>Percent of Any Mental Illnesses</td>\n",
       "    </tr>\n",
       "    <tr>\n",
       "      <th>1</th>\n",
       "      <td>Alaska</td>\n",
       "      <td>0.214692</td>\n",
       "      <td>2019</td>\n",
       "      <td>Percent of Any Mental Illnesses</td>\n",
       "    </tr>\n",
       "    <tr>\n",
       "      <th>2</th>\n",
       "      <td>Arizona</td>\n",
       "      <td>0.200635</td>\n",
       "      <td>2019</td>\n",
       "      <td>Percent of Any Mental Illnesses</td>\n",
       "    </tr>\n",
       "    <tr>\n",
       "      <th>3</th>\n",
       "      <td>Arkansas</td>\n",
       "      <td>0.203352</td>\n",
       "      <td>2019</td>\n",
       "      <td>Percent of Any Mental Illnesses</td>\n",
       "    </tr>\n",
       "    <tr>\n",
       "      <th>4</th>\n",
       "      <td>California</td>\n",
       "      <td>0.194866</td>\n",
       "      <td>2019</td>\n",
       "      <td>Percent of Any Mental Illnesses</td>\n",
       "    </tr>\n",
       "    <tr>\n",
       "      <th>...</th>\n",
       "      <td>...</td>\n",
       "      <td>...</td>\n",
       "      <td>...</td>\n",
       "      <td>...</td>\n",
       "    </tr>\n",
       "    <tr>\n",
       "      <th>760</th>\n",
       "      <td>Virginia</td>\n",
       "      <td>0.148500</td>\n",
       "      <td>2019</td>\n",
       "      <td>Percent of Population Received Services</td>\n",
       "    </tr>\n",
       "    <tr>\n",
       "      <th>761</th>\n",
       "      <td>Washington</td>\n",
       "      <td>0.180100</td>\n",
       "      <td>2019</td>\n",
       "      <td>Percent of Population Received Services</td>\n",
       "    </tr>\n",
       "    <tr>\n",
       "      <th>762</th>\n",
       "      <td>West Virginia</td>\n",
       "      <td>0.188500</td>\n",
       "      <td>2019</td>\n",
       "      <td>Percent of Population Received Services</td>\n",
       "    </tr>\n",
       "    <tr>\n",
       "      <th>763</th>\n",
       "      <td>Wisconsin</td>\n",
       "      <td>0.192600</td>\n",
       "      <td>2019</td>\n",
       "      <td>Percent of Population Received Services</td>\n",
       "    </tr>\n",
       "    <tr>\n",
       "      <th>764</th>\n",
       "      <td>Wyoming</td>\n",
       "      <td>0.169900</td>\n",
       "      <td>2019</td>\n",
       "      <td>Percent of Population Received Services</td>\n",
       "    </tr>\n",
       "  </tbody>\n",
       "</table>\n",
       "<p>765 rows × 4 columns</p>\n",
       "</div>"
      ],
      "text/plain": [
       "             State     Cases  Year                                     Type\n",
       "0          Alabama  0.212901  2019          Percent of Any Mental Illnesses\n",
       "1           Alaska  0.214692  2019          Percent of Any Mental Illnesses\n",
       "2          Arizona  0.200635  2019          Percent of Any Mental Illnesses\n",
       "3         Arkansas  0.203352  2019          Percent of Any Mental Illnesses\n",
       "4       California  0.194866  2019          Percent of Any Mental Illnesses\n",
       "..             ...       ...   ...                                      ...\n",
       "760       Virginia  0.148500  2019  Percent of Population Received Services\n",
       "761     Washington  0.180100  2019  Percent of Population Received Services\n",
       "762  West Virginia  0.188500  2019  Percent of Population Received Services\n",
       "763      Wisconsin  0.192600  2019  Percent of Population Received Services\n",
       "764        Wyoming  0.169900  2019  Percent of Population Received Services\n",
       "\n",
       "[765 rows x 4 columns]"
      ]
     },
     "execution_count": 28,
     "metadata": {},
     "output_type": "execute_result"
    }
   ],
   "source": [
    "# Combine the dataframes\n",
    "df_all = pd.concat([df_all_per, df_received], ignore_index = True)\n",
    "df_all"
   ]
  },
  {
   "cell_type": "code",
   "execution_count": 29,
   "id": "digital-judges",
   "metadata": {},
   "outputs": [],
   "source": [
    "# convert df to csv\n",
    "df_all.to_csv('map.csv', index = False)"
   ]
  }
 ],
 "metadata": {
  "colab": {
   "name": "data_cleaning.ipynb",
   "provenance": []
  },
  "interpreter": {
   "hash": "aee8b7b246df8f9039afb4144a1f6fd8d2ca17a180786b69acc140d282b71a49"
  },
  "kernelspec": {
   "display_name": "Python 3",
   "language": "python",
   "name": "python3"
  },
  "language_info": {
   "codemirror_mode": {
    "name": "ipython",
    "version": 3
   },
   "file_extension": ".py",
   "mimetype": "text/x-python",
   "name": "python",
   "nbconvert_exporter": "python",
   "pygments_lexer": "ipython3",
   "version": "3.8.5"
  }
 },
 "nbformat": 4,
 "nbformat_minor": 5
}
